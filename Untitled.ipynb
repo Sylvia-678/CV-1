{
 "cells": [
  {
   "cell_type": "code",
   "execution_count": 2,
   "id": "7a37f705-ab9a-42a6-8037-ffb680113e0c",
   "metadata": {},
   "outputs": [
    {
     "name": "stdout",
     "output_type": "stream",
     "text": [
      "文件已解压到: Dataset\n"
     ]
    }
   ],
   "source": [
    "import zipfile\n",
    "import os\n",
    "\n",
    "zip_file_path = 'Dataset.zip'\n",
    "output_dir = 'Dataset'  # 解压后的文件存放目录\n",
    "\n",
    "# 创建解压目录（如果不存在）\n",
    "os.makedirs(output_dir, exist_ok=True)\n",
    "\n",
    "# 解压文件\n",
    "with zipfile.ZipFile(zip_file_path, 'r') as zip_ref:\n",
    "    zip_ref.extractall(output_dir)\n",
    "\n",
    "print(f\"文件已解压到: {output_dir}\")\n"
   ]
  },
  {
   "cell_type": "code",
   "execution_count": 7,
   "id": "efa19fda-1971-49c5-ad66-802497f904c5",
   "metadata": {},
   "outputs": [
    {
     "name": "stdout",
     "output_type": "stream",
     "text": [
      "文件夹已从 /home/jovyan/CV2/image-segmentation-cv/Dataset/Dataset 移动到 /home/jovyan/CV2/image-segmentation-cv/Dataset1\n"
     ]
    }
   ],
   "source": [
    "import shutil\n",
    "import os\n",
    "\n",
    "# 源目录路径\n",
    "source_dir = '/home/jovyan/CV2/image-segmentation-cv/Dataset/Dataset'  # 修改为实际的源目录路径\n",
    "\n",
    "# 目标目录路径（当前目录）\n",
    "target_dir = os.path.join(os.getcwd(), 'Dataset1')  # 将文件夹移动到当前目录\n",
    "\n",
    "# 使用shutil.move来移动文件夹\n",
    "shutil.move(source_dir, target_dir)\n",
    "\n",
    "print(f\"文件夹已从 {source_dir} 移动到 {target_dir}\")\n"
   ]
  },
  {
   "cell_type": "code",
   "execution_count": 8,
   "id": "b86540d6-fee7-4a4b-b347-d59a0619f2b8",
   "metadata": {},
   "outputs": [
    {
     "name": "stdout",
     "output_type": "stream",
     "text": [
      "图像模式: RGB\n",
      "这是一个 RGB 图像。\n"
     ]
    }
   ],
   "source": [
    "from PIL import Image\n",
    "\n",
    "# 打开图像\n",
    "image_path = \"/home/jovyan/CV2/image-segmentation-cv/Dataset/Test/color/Abyssinian_2.jpg\"\n",
    "img = Image.open(image_path)\n",
    "\n",
    "# 获取图像模式\n",
    "mode = img.mode\n",
    "print(f\"图像模式: {mode}\")\n",
    "\n",
    "# 如果是 RGB 图像，返回 3 个通道\n",
    "if mode == 'RGB':\n",
    "    print(\"这是一个 RGB 图像。\")\n",
    "elif mode == 'L':\n",
    "    print(\"这是一个灰度图像。\")\n",
    "else:\n",
    "    print(f\"其他类型图像，模式: {mode}\")\n"
   ]
  },
  {
   "cell_type": "code",
   "execution_count": null,
   "id": "3df60654-d0cc-4a76-9ced-790491d33b38",
   "metadata": {},
   "outputs": [],
   "source": []
  }
 ],
 "metadata": {
  "kernelspec": {
   "display_name": "Python 3 (ipykernel)",
   "language": "python",
   "name": "python3"
  },
  "language_info": {
   "codemirror_mode": {
    "name": "ipython",
    "version": 3
   },
   "file_extension": ".py",
   "mimetype": "text/x-python",
   "name": "python",
   "nbconvert_exporter": "python",
   "pygments_lexer": "ipython3",
   "version": "3.11.9"
  }
 },
 "nbformat": 4,
 "nbformat_minor": 5
}
